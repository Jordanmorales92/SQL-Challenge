{
 "cells": [
  {
   "cell_type": "code",
   "execution_count": 24,
   "id": "cd399b61",
   "metadata": {},
   "outputs": [],
   "source": [
    "# dependencies\n",
    "import pandas as pd\n",
    "import numpy as np\n",
    "import matplotlib as plt\n",
    "\n",
    "# CSV files\n",
    "\n",
    "deptartment_csv = 'data/departments.csv'\n",
    "dept_emp_csv = 'data/dept_emp.csv'\n",
    "dept_manager_csv = 'data/dept_manager.csv'\n",
    "employees_csv =  'data/employees.csv'\n",
    "salaries_csv = 'data/salaries.csv'\n",
    "titles_csv = 'data/titles.csv'"
   ]
  },
  {
   "cell_type": "code",
   "execution_count": 25,
   "id": "1b3d5084",
   "metadata": {},
   "outputs": [],
   "source": [
    "# deptartments CSV read\n",
    "deptartment_df = pd.read_csv(deptartment_csv)\n",
    "\n",
    "# dept_emp CSV read\n",
    "dept_emp_df = pd.read_csv(dept_emp_csv)\n",
    "\n",
    "# dept_maner CSV read\n",
    "dept_manager_df = pd.read_csv(dept_manager_csv)\n",
    "\n",
    "# employees CSV read\n",
    "employees_df =  pd.read_csv(employees_csv)\n",
    "\n",
    "# salaries CSV read\n",
    "\n",
    "salaries_df = pd.read_csv(salaries_csv)\n",
    "                          \n",
    "# titles CSV read\n",
    "                          \n",
    "titles_df = pd.read_csv(titles_csv)\n",
    "                        \n",
    "\n"
   ]
  },
  {
   "cell_type": "code",
   "execution_count": null,
   "id": "28dfa713",
   "metadata": {},
   "outputs": [],
   "source": [
    "plt.hist"
   ]
  }
 ],
 "metadata": {
  "kernelspec": {
   "display_name": "Python 3",
   "language": "python",
   "name": "python3"
  },
  "language_info": {
   "codemirror_mode": {
    "name": "ipython",
    "version": 3
   },
   "file_extension": ".py",
   "mimetype": "text/x-python",
   "name": "python",
   "nbconvert_exporter": "python",
   "pygments_lexer": "ipython3",
   "version": "3.8.8"
  }
 },
 "nbformat": 4,
 "nbformat_minor": 5
}
